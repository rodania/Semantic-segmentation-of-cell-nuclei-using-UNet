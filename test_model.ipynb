{
 "cells": [
  {
   "cell_type": "code",
   "execution_count": 1,
   "id": "f97e061e",
   "metadata": {},
   "outputs": [],
   "source": [
    "from tensorflow.keras.models import load_model\n",
    "import numpy as np\n",
    "import cv2\n",
    "from random import randint"
   ]
  },
  {
   "cell_type": "code",
   "execution_count": 2,
   "id": "3909fdf0",
   "metadata": {},
   "outputs": [],
   "source": [
    "# load model\n",
    "model = load_model(\"final_model/model.pb\")"
   ]
  },
  {
   "cell_type": "code",
   "execution_count": 3,
   "id": "e8ed2f07",
   "metadata": {},
   "outputs": [],
   "source": [
    "# load test dataset\n",
    "x_test = np.load('data/x_test.npy')"
   ]
  },
  {
   "cell_type": "code",
   "execution_count": 4,
   "id": "126ffc16",
   "metadata": {
    "scrolled": false
   },
   "outputs": [
    {
     "name": "stdout",
     "output_type": "stream",
     "text": [
      "3/3 [==============================] - 3s 406ms/step\n"
     ]
    }
   ],
   "source": [
    "# use he model to predict test dataset\n",
    "pred_test = model.predict(x_test, verbose=1)\n",
    "\n",
    "# if prdiction > 0.5\n",
    "pred_test = (pred_test > 0.5).astype(np.uint8)\n",
    "\n",
    "# convert binary data into black & white image\n",
    "pred_test = np.uint8(np.where(pred_test == 1, 255, 0))"
   ]
  },
  {
   "cell_type": "code",
   "execution_count": 13,
   "id": "76758050",
   "metadata": {},
   "outputs": [],
   "source": [
    "# get a random number within the length of test dataset \n",
    "idx = randint(0, len(pred_test))\n",
    "\n",
    "# get the actual image of cells\n",
    "img = x_test[idx]\n",
    "\n",
    "# get the predicted mask\n",
    "mask = cv2.cvtColor(pred_test[idx], cv2.COLOR_GRAY2BGR)\n",
    "# add some colours to the mask\n",
    "mask = np.uint8(np.where(mask == 0, [160,0,130], [0, 240, 255]))\n",
    "\n",
    "# stack image & mask to gether to compare the result\n",
    "add = np.hstack([img, mask])\n",
    "cv2.imshow('img', add)\n",
    "cv2.waitKey(0)\n",
    "\n",
    "cv2.destroyAllWindows()"
   ]
  }
 ],
 "metadata": {
  "kernelspec": {
   "display_name": "cv",
   "language": "python",
   "name": "myenv"
  },
  "language_info": {
   "codemirror_mode": {
    "name": "ipython",
    "version": 3
   },
   "file_extension": ".py",
   "mimetype": "text/x-python",
   "name": "python",
   "nbconvert_exporter": "python",
   "pygments_lexer": "ipython3",
   "version": "3.9.5"
  }
 },
 "nbformat": 4,
 "nbformat_minor": 5
}
