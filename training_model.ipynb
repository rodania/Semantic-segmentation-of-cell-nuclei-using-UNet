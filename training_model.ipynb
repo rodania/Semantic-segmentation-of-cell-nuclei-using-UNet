{
 "cells": [
  {
   "cell_type": "code",
   "execution_count": 37,
   "id": "f97e061e",
   "metadata": {},
   "outputs": [],
   "source": [
    "from tensorflow.keras import callbacks\n",
    "from tensorflow.keras.optimizers import Adam\n",
    "\n",
    "\n",
    "from UNet_model import ImageSeg\n",
    "from sklearn.model_selection import train_test_split\n",
    "\n",
    "import os\n",
    "import numpy as np\n",
    "import cv2\n",
    "from random import randint\n",
    "\n",
    "np.random.seed = 42"
   ]
  },
  {
   "cell_type": "markdown",
   "id": "36e58f7f",
   "metadata": {},
   "source": [
    "### Data Processing"
   ]
  },
  {
   "cell_type": "code",
   "execution_count": 3,
   "id": "00a2eef0",
   "metadata": {},
   "outputs": [],
   "source": [
    "# define input image size\n",
    "img_H, img_W, img_C = 128, 128, 3"
   ]
  },
  {
   "cell_type": "code",
   "execution_count": 5,
   "id": "e8ed2f07",
   "metadata": {},
   "outputs": [],
   "source": [
    "# define train & test directories\n",
    "train_dir = 'data-science-bowl-2018/stage1_train/'\n",
    "test_dir = 'data-science-bowl-2018/stage1_test/'\n",
    "\n",
    "# get the full paths of train & test images\n",
    "train_img_path = [] \n",
    "train_mask_path = []\n",
    "for f in os.listdir(train_dir):\n",
    "    train_img_path.append(train_dir + f + '/images/' + f + '.png')\n",
    "    train_mask_path.append(train_dir + f + '/masks/')\n",
    "test_img_path = [test_dir + f + '/images/' + f + '.png' for f in os.listdir(test_dir)]"
   ]
  },
  {
   "cell_type": "code",
   "execution_count": 6,
   "id": "ef0a91ab",
   "metadata": {},
   "outputs": [],
   "source": [
    "def get_images(path):\n",
    "    \"\"\" \n",
    "    the function reads, resizes the images & returns them in an arrays\n",
    "    \"\"\"\n",
    "    images = []\n",
    "\n",
    "    for img_path in path:\n",
    "        img = cv2.imread(img_path)\n",
    "        img = cv2.resize(img, (img_H, img_W))\n",
    "        images.append(img / 255.)\n",
    "    \n",
    "    return np.array(images)\n",
    "    \n",
    "    \n",
    "def get_masks(path):\n",
    "    \"\"\"\n",
    "    Masks of each image are in seperate images.\n",
    "    The function combines all these masks into one image, \n",
    "    and returns it a boolean array\n",
    "    \"\"\"\n",
    "    masks = []\n",
    "    \n",
    "    for mask_path in path:\n",
    "        # create a black empty mask\n",
    "        mask = np.zeros((img_H, img_W, 1), dtype= np.uint8)\n",
    "        # loop through all masks of an image\n",
    "        for m in os.listdir(mask_path):\n",
    "            mask_ = cv2.imread(mask_path + m, 0)\n",
    "            mask_ = cv2.resize(mask_, (img_H, img_W))\n",
    "            mask_ = np.reshape(mask_, (img_H, img_W, 1))\n",
    "            # get combine masks together by getting the maximum\n",
    "            mask = np.maximum(mask, mask_)\n",
    "            # convert into boolyean array\n",
    "            mask = mask.astype(bool)\n",
    "\n",
    "        masks.append(mask)\n",
    "        \n",
    "    return np.array(masks)"
   ]
  },
  {
   "cell_type": "code",
   "execution_count": 7,
   "id": "cbbfec40",
   "metadata": {},
   "outputs": [],
   "source": [
    "# get training data\n",
    "x_train = get_images(train_img_path)\n",
    "y_train = get_masks(train_mask_path)\n",
    "\n",
    "# split train data into trani dataset & validation dataset\n",
    "x_train, x_val, y_train, y_val = train_test_split(x_train, y_train, test_size=0.1)\n",
    "\n",
    "# get test data\n",
    "x_test = get_images(test_img_path)"
   ]
  },
  {
   "cell_type": "code",
   "execution_count": 24,
   "id": "8c2155c4",
   "metadata": {},
   "outputs": [],
   "source": [
    "# check point\n",
    "cv2.imshow('image', x_train[-1])\n",
    "cv2.waitKey(0)\n",
    "\n",
    "cv2.imshow('mask', np.uint8(np.where(y_train[-1] == True, 255, 0)))\n",
    "cv2.waitKey(0)\n",
    "cv2.destroyAllWindows()"
   ]
  },
  {
   "cell_type": "markdown",
   "id": "b357d4c0",
   "metadata": {},
   "source": [
    "### Model"
   ]
  },
  {
   "cell_type": "code",
   "execution_count": 38,
   "id": "f188d083",
   "metadata": {},
   "outputs": [],
   "source": [
    "model = ImageSeg.UNet(img_H, img_W, img_C)\n",
    "model.compile(Adam(0.001), loss='binary_crossentropy', metrics=['accuracy'])"
   ]
  },
  {
   "cell_type": "code",
   "execution_count": 39,
   "id": "4bf96a96",
   "metadata": {},
   "outputs": [
    {
     "name": "stdout",
     "output_type": "stream",
     "text": [
      "Model: \"model_7\"\n",
      "__________________________________________________________________________________________________\n",
      "Layer (type)                    Output Shape         Param #     Connected to                     \n",
      "==================================================================================================\n",
      "input_8 (InputLayer)            [(None, 128, 128, 3) 0                                            \n",
      "__________________________________________________________________________________________________\n",
      "conv2d_133 (Conv2D)             (None, 128, 128, 16) 448         input_8[0][0]                    \n",
      "__________________________________________________________________________________________________\n",
      "dropout_63 (Dropout)            (None, 128, 128, 16) 0           conv2d_133[0][0]                 \n",
      "__________________________________________________________________________________________________\n",
      "conv2d_134 (Conv2D)             (None, 128, 128, 16) 2320        dropout_63[0][0]                 \n",
      "__________________________________________________________________________________________________\n",
      "max_pooling2d_28 (MaxPooling2D) (None, 64, 64, 16)   0           conv2d_134[0][0]                 \n",
      "__________________________________________________________________________________________________\n",
      "conv2d_135 (Conv2D)             (None, 64, 64, 32)   4640        max_pooling2d_28[0][0]           \n",
      "__________________________________________________________________________________________________\n",
      "dropout_64 (Dropout)            (None, 64, 64, 32)   0           conv2d_135[0][0]                 \n",
      "__________________________________________________________________________________________________\n",
      "conv2d_136 (Conv2D)             (None, 64, 64, 32)   9248        dropout_64[0][0]                 \n",
      "__________________________________________________________________________________________________\n",
      "max_pooling2d_29 (MaxPooling2D) (None, 32, 32, 32)   0           conv2d_136[0][0]                 \n",
      "__________________________________________________________________________________________________\n",
      "conv2d_137 (Conv2D)             (None, 32, 32, 64)   18496       max_pooling2d_29[0][0]           \n",
      "__________________________________________________________________________________________________\n",
      "dropout_65 (Dropout)            (None, 32, 32, 64)   0           conv2d_137[0][0]                 \n",
      "__________________________________________________________________________________________________\n",
      "conv2d_138 (Conv2D)             (None, 32, 32, 64)   36928       dropout_65[0][0]                 \n",
      "__________________________________________________________________________________________________\n",
      "max_pooling2d_30 (MaxPooling2D) (None, 16, 16, 64)   0           conv2d_138[0][0]                 \n",
      "__________________________________________________________________________________________________\n",
      "conv2d_139 (Conv2D)             (None, 16, 16, 128)  73856       max_pooling2d_30[0][0]           \n",
      "__________________________________________________________________________________________________\n",
      "dropout_66 (Dropout)            (None, 16, 16, 128)  0           conv2d_139[0][0]                 \n",
      "__________________________________________________________________________________________________\n",
      "conv2d_140 (Conv2D)             (None, 16, 16, 128)  147584      dropout_66[0][0]                 \n",
      "__________________________________________________________________________________________________\n",
      "max_pooling2d_31 (MaxPooling2D) (None, 8, 8, 128)    0           conv2d_140[0][0]                 \n",
      "__________________________________________________________________________________________________\n",
      "conv2d_141 (Conv2D)             (None, 8, 8, 256)    295168      max_pooling2d_31[0][0]           \n",
      "__________________________________________________________________________________________________\n",
      "dropout_67 (Dropout)            (None, 8, 8, 256)    0           conv2d_141[0][0]                 \n",
      "__________________________________________________________________________________________________\n",
      "conv2d_142 (Conv2D)             (None, 8, 8, 256)    590080      dropout_67[0][0]                 \n",
      "__________________________________________________________________________________________________\n",
      "conv2d_transpose_28 (Conv2DTran (None, 16, 16, 128)  131200      conv2d_142[0][0]                 \n",
      "__________________________________________________________________________________________________\n",
      "concatenate_28 (Concatenate)    (None, 16, 16, 256)  0           conv2d_transpose_28[0][0]        \n",
      "                                                                 conv2d_140[0][0]                 \n",
      "__________________________________________________________________________________________________\n",
      "conv2d_143 (Conv2D)             (None, 16, 16, 128)  295040      concatenate_28[0][0]             \n",
      "__________________________________________________________________________________________________\n",
      "dropout_68 (Dropout)            (None, 16, 16, 128)  0           conv2d_143[0][0]                 \n",
      "__________________________________________________________________________________________________\n",
      "conv2d_144 (Conv2D)             (None, 16, 16, 128)  147584      dropout_68[0][0]                 \n",
      "__________________________________________________________________________________________________\n",
      "conv2d_transpose_29 (Conv2DTran (None, 32, 32, 64)   32832       conv2d_144[0][0]                 \n",
      "__________________________________________________________________________________________________\n",
      "concatenate_29 (Concatenate)    (None, 32, 32, 128)  0           conv2d_transpose_29[0][0]        \n",
      "                                                                 conv2d_138[0][0]                 \n",
      "__________________________________________________________________________________________________\n",
      "conv2d_145 (Conv2D)             (None, 32, 32, 64)   73792       concatenate_29[0][0]             \n",
      "__________________________________________________________________________________________________\n",
      "dropout_69 (Dropout)            (None, 32, 32, 64)   0           conv2d_145[0][0]                 \n",
      "__________________________________________________________________________________________________\n",
      "conv2d_146 (Conv2D)             (None, 32, 32, 64)   36928       dropout_69[0][0]                 \n",
      "__________________________________________________________________________________________________\n",
      "conv2d_transpose_30 (Conv2DTran (None, 64, 64, 32)   8224        conv2d_146[0][0]                 \n",
      "__________________________________________________________________________________________________\n",
      "concatenate_30 (Concatenate)    (None, 64, 64, 64)   0           conv2d_transpose_30[0][0]        \n",
      "                                                                 conv2d_136[0][0]                 \n",
      "__________________________________________________________________________________________________\n",
      "conv2d_147 (Conv2D)             (None, 64, 64, 32)   18464       concatenate_30[0][0]             \n",
      "__________________________________________________________________________________________________\n",
      "dropout_70 (Dropout)            (None, 64, 64, 32)   0           conv2d_147[0][0]                 \n",
      "__________________________________________________________________________________________________\n",
      "conv2d_148 (Conv2D)             (None, 64, 64, 32)   9248        dropout_70[0][0]                 \n",
      "__________________________________________________________________________________________________\n",
      "conv2d_transpose_31 (Conv2DTran (None, 128, 128, 16) 2064        conv2d_148[0][0]                 \n",
      "__________________________________________________________________________________________________\n",
      "concatenate_31 (Concatenate)    (None, 128, 128, 32) 0           conv2d_transpose_31[0][0]        \n",
      "                                                                 conv2d_134[0][0]                 \n",
      "__________________________________________________________________________________________________\n",
      "conv2d_149 (Conv2D)             (None, 128, 128, 16) 4624        concatenate_31[0][0]             \n",
      "__________________________________________________________________________________________________\n",
      "dropout_71 (Dropout)            (None, 128, 128, 16) 0           conv2d_149[0][0]                 \n",
      "__________________________________________________________________________________________________\n",
      "conv2d_150 (Conv2D)             (None, 128, 128, 16) 2320        dropout_71[0][0]                 \n",
      "__________________________________________________________________________________________________\n",
      "conv2d_151 (Conv2D)             (None, 128, 128, 1)  17          conv2d_150[0][0]                 \n",
      "==================================================================================================\n",
      "Total params: 1,941,105\n",
      "Trainable params: 1,941,105\n",
      "Non-trainable params: 0\n",
      "__________________________________________________________________________________________________\n"
     ]
    }
   ],
   "source": [
    "model.summary()"
   ]
  },
  {
   "cell_type": "code",
   "execution_count": 40,
   "id": "3ede46c2",
   "metadata": {},
   "outputs": [
    {
     "name": "stdout",
     "output_type": "stream",
     "text": [
      "Epoch 1/25\n",
      "19/19 [==============================] - 113s 6s/step - loss: 0.5660 - accuracy: 0.8437 - val_loss: 0.5079 - val_accuracy: 0.8315\n",
      "\n",
      "Epoch 00001: val_loss improved from inf to 0.50788, saving model to Nuclei_model.h5\n",
      "Epoch 2/25\n",
      "19/19 [==============================] - 92s 5s/step - loss: 0.3830 - accuracy: 0.8500 - val_loss: 0.3027 - val_accuracy: 0.8359\n",
      "\n",
      "Epoch 00002: val_loss improved from 0.50788 to 0.30269, saving model to Nuclei_model.h5\n",
      "Epoch 3/25\n",
      "19/19 [==============================] - 88s 5s/step - loss: 0.2461 - accuracy: 0.8586 - val_loss: 0.2417 - val_accuracy: 0.8424\n",
      "\n",
      "Epoch 00003: val_loss improved from 0.30269 to 0.24170, saving model to Nuclei_model.h5\n",
      "Epoch 4/25\n",
      "19/19 [==============================] - 91s 5s/step - loss: 0.1929 - accuracy: 0.8933 - val_loss: 0.1928 - val_accuracy: 0.9134\n",
      "\n",
      "Epoch 00004: val_loss improved from 0.24170 to 0.19284, saving model to Nuclei_model.h5\n",
      "Epoch 5/25\n",
      "19/19 [==============================] - 92s 5s/step - loss: 0.1569 - accuracy: 0.9399 - val_loss: 0.1647 - val_accuracy: 0.9355\n",
      "\n",
      "Epoch 00005: val_loss improved from 0.19284 to 0.16469, saving model to Nuclei_model.h5\n",
      "Epoch 6/25\n",
      "19/19 [==============================] - 90s 5s/step - loss: 0.1364 - accuracy: 0.9495 - val_loss: 0.1488 - val_accuracy: 0.9431\n",
      "\n",
      "Epoch 00006: val_loss improved from 0.16469 to 0.14879, saving model to Nuclei_model.h5\n",
      "Epoch 7/25\n",
      "19/19 [==============================] - 89s 5s/step - loss: 0.1248 - accuracy: 0.9532 - val_loss: 0.1260 - val_accuracy: 0.9510\n",
      "\n",
      "Epoch 00007: val_loss improved from 0.14879 to 0.12605, saving model to Nuclei_model.h5\n",
      "Epoch 8/25\n",
      "19/19 [==============================] - 86s 5s/step - loss: 0.1140 - accuracy: 0.9571 - val_loss: 0.1149 - val_accuracy: 0.9560\n",
      "\n",
      "Epoch 00008: val_loss improved from 0.12605 to 0.11493, saving model to Nuclei_model.h5\n",
      "Epoch 9/25\n",
      "19/19 [==============================] - 95s 5s/step - loss: 0.1030 - accuracy: 0.9612 - val_loss: 0.1022 - val_accuracy: 0.9602\n",
      "\n",
      "Epoch 00009: val_loss improved from 0.11493 to 0.10225, saving model to Nuclei_model.h5\n",
      "Epoch 10/25\n",
      "19/19 [==============================] - 98s 5s/step - loss: 0.0992 - accuracy: 0.9625 - val_loss: 0.1003 - val_accuracy: 0.9611\n",
      "\n",
      "Epoch 00010: val_loss improved from 0.10225 to 0.10035, saving model to Nuclei_model.h5\n",
      "Epoch 11/25\n",
      "19/19 [==============================] - 103s 5s/step - loss: 0.0967 - accuracy: 0.9630 - val_loss: 0.0979 - val_accuracy: 0.9617\n",
      "\n",
      "Epoch 00011: val_loss improved from 0.10035 to 0.09787, saving model to Nuclei_model.h5\n",
      "Epoch 12/25\n",
      "19/19 [==============================] - 115s 6s/step - loss: 0.0937 - accuracy: 0.9647 - val_loss: 0.1139 - val_accuracy: 0.9537\n",
      "\n",
      "Epoch 00012: val_loss did not improve from 0.09787\n",
      "Epoch 13/25\n",
      "19/19 [==============================] - 95s 5s/step - loss: 0.0968 - accuracy: 0.9625 - val_loss: 0.1147 - val_accuracy: 0.9547\n",
      "\n",
      "Epoch 00013: val_loss did not improve from 0.09787\n",
      "Epoch 14/25\n",
      "19/19 [==============================] - 86s 5s/step - loss: 0.0940 - accuracy: 0.9640 - val_loss: 0.1011 - val_accuracy: 0.9602\n",
      "\n",
      "Epoch 00014: val_loss did not improve from 0.09787\n",
      "Epoch 15/25\n",
      "19/19 [==============================] - 85s 4s/step - loss: 0.0913 - accuracy: 0.9653 - val_loss: 0.0887 - val_accuracy: 0.9656\n",
      "\n",
      "Epoch 00015: val_loss improved from 0.09787 to 0.08869, saving model to Nuclei_model.h5\n",
      "Epoch 16/25\n",
      "19/19 [==============================] - 86s 5s/step - loss: 0.0871 - accuracy: 0.9668 - val_loss: 0.0904 - val_accuracy: 0.9647\n",
      "\n",
      "Epoch 00016: val_loss did not improve from 0.08869\n",
      "Epoch 17/25\n",
      "19/19 [==============================] - 87s 5s/step - loss: 0.0853 - accuracy: 0.9674 - val_loss: 0.0867 - val_accuracy: 0.9658\n",
      "\n",
      "Epoch 00017: val_loss improved from 0.08869 to 0.08671, saving model to Nuclei_model.h5\n",
      "Epoch 18/25\n",
      "19/19 [==============================] - 96s 5s/step - loss: 0.0827 - accuracy: 0.9682 - val_loss: 0.0855 - val_accuracy: 0.9664\n",
      "\n",
      "Epoch 00018: val_loss improved from 0.08671 to 0.08550, saving model to Nuclei_model.h5\n",
      "Epoch 19/25\n",
      "19/19 [==============================] - 94s 5s/step - loss: 0.0823 - accuracy: 0.9683 - val_loss: 0.0857 - val_accuracy: 0.9662\n",
      "\n",
      "Epoch 00019: val_loss did not improve from 0.08550\n",
      "Epoch 20/25\n",
      "19/19 [==============================] - 92s 5s/step - loss: 0.0821 - accuracy: 0.9683 - val_loss: 0.0834 - val_accuracy: 0.9676\n",
      "\n",
      "Epoch 00020: val_loss improved from 0.08550 to 0.08339, saving model to Nuclei_model.h5\n",
      "Epoch 21/25\n",
      "19/19 [==============================] - 92s 5s/step - loss: 0.0803 - accuracy: 0.9693 - val_loss: 0.0855 - val_accuracy: 0.9662\n",
      "\n",
      "Epoch 00021: val_loss did not improve from 0.08339\n",
      "Epoch 22/25\n",
      "19/19 [==============================] - 96s 5s/step - loss: 0.0809 - accuracy: 0.9685 - val_loss: 0.0828 - val_accuracy: 0.9676\n",
      "\n",
      "Epoch 00022: val_loss improved from 0.08339 to 0.08284, saving model to Nuclei_model.h5\n",
      "Epoch 23/25\n",
      "19/19 [==============================] - 91s 5s/step - loss: 0.0784 - accuracy: 0.9696 - val_loss: 0.0817 - val_accuracy: 0.9680\n",
      "\n",
      "Epoch 00023: val_loss improved from 0.08284 to 0.08173, saving model to Nuclei_model.h5\n",
      "Epoch 24/25\n",
      "19/19 [==============================] - 89s 5s/step - loss: 0.0778 - accuracy: 0.9700 - val_loss: 0.0786 - val_accuracy: 0.9693\n",
      "\n",
      "Epoch 00024: val_loss improved from 0.08173 to 0.07862, saving model to Nuclei_model.h5\n",
      "Epoch 25/25\n",
      "19/19 [==============================] - 118s 6s/step - loss: 0.0765 - accuracy: 0.9703 - val_loss: 0.0794 - val_accuracy: 0.9688\n",
      "\n",
      "Epoch 00025: val_loss did not improve from 0.07862\n"
     ]
    }
   ],
   "source": [
    "# checkpoint\n",
    "checkpoint = callbacks.ModelCheckpoint('Nuclei_model.h5', verbose=1, save_best_only=True)\n",
    "callback = [checkpoint,\n",
    "            callbacks.TensorBoard(log_dir='./logs')\n",
    "           ]\n",
    "\n",
    "\n",
    "results = model.fit(x_train,\n",
    "                   y_train,\n",
    "                   validation_data= (x_val, y_val),\n",
    "                   batch_size=32,\n",
    "                   epochs=25,\n",
    "                   callbacks= callback)"
   ]
  },
  {
   "cell_type": "code",
   "execution_count": null,
   "id": "e35c5a21",
   "metadata": {},
   "outputs": [],
   "source": [
    "# save the model\n",
    "model.save(\"final_model/model.pb\")"
   ]
  },
  {
   "cell_type": "code",
   "execution_count": 33,
   "id": "a144e9ba",
   "metadata": {},
   "outputs": [
    {
     "data": {
      "text/plain": [
       "43200"
      ]
     },
     "execution_count": 33,
     "metadata": {},
     "output_type": "execute_result"
    }
   ],
   "source": [
    "3600*12"
   ]
  },
  {
   "cell_type": "code",
   "execution_count": 76,
   "id": "379c874c",
   "metadata": {},
   "outputs": [
    {
     "name": "stdout",
     "output_type": "stream",
     "text": [
      "19/19 [==============================] - 15s 760ms/step\n",
      "3/3 [==============================] - 2s 414ms/step\n",
      "3/3 [==============================] - 2s 391ms/step\n"
     ]
    }
   ],
   "source": [
    "preds_train = model.predict(x_train[:int(x_train.shape[0] * 0.9)], verbose=1)\n",
    "preds_val = model.predict(x_train[int(x_train.shape[0] * 0.9):], verbose=1)\n",
    "preds_test = model.predict(x_test, verbose=1)"
   ]
  },
  {
   "cell_type": "code",
   "execution_count": 77,
   "id": "0605230d",
   "metadata": {},
   "outputs": [],
   "source": [
    "preds_train_t = (preds_train > 0.5).astype(np.uint8)\n",
    "preds_val_t = (preds_val > 0.5).astype(np.uint8)\n",
    "preds_test_t = (preds_test > 0.5).astype(np.uint8)"
   ]
  },
  {
   "cell_type": "code",
   "execution_count": 82,
   "id": "0cc56531",
   "metadata": {},
   "outputs": [],
   "source": [
    "idx = randint(0, len(preds_val_t))\n",
    "cv2.imshow('img', x_train[:int(x_train.shape[0] * 0.9)][idx])\n",
    "cv2.waitKey(0)\n",
    "cv2.destroyAllWindows()"
   ]
  },
  {
   "cell_type": "code",
   "execution_count": 187,
   "id": "45c97fc9",
   "metadata": {},
   "outputs": [],
   "source": [
    "# Perform a sanity check on some random validation samples\n",
    "idx = random.randint(0, len(preds_val_t))\n",
    "cv2.imshow('img', x_train[:int(x_train.shape[0] * 0.9)][idx])\n",
    "cv2.waitKey(0)\n",
    "y_train_ = y_train[int(y_train.shape[0]*0.9):][idx]\n",
    "cv2.imshow('img0', np.uint8(np.where(y_train_ == True, 255, 0)))\n",
    "cv2.waitKey(0)\n",
    "pred_img = np.where(preds_val_t[idx] == True, 255, 0)\n",
    "cv2.imshow('img1', np.uint8(pred_img))\n",
    "cv2.waitKey(0)\n",
    "\n",
    "cv2.destroyAllWindows()"
   ]
  },
  {
   "cell_type": "code",
   "execution_count": 179,
   "id": "941bf2de",
   "metadata": {},
   "outputs": [],
   "source": [
    "cv2.destroyAllWindows()"
   ]
  },
  {
   "cell_type": "code",
   "execution_count": null,
   "id": "62491fc9",
   "metadata": {},
   "outputs": [],
   "source": []
  }
 ],
 "metadata": {
  "kernelspec": {
   "display_name": "cv",
   "language": "python",
   "name": "myenv"
  },
  "language_info": {
   "codemirror_mode": {
    "name": "ipython",
    "version": 3
   },
   "file_extension": ".py",
   "mimetype": "text/x-python",
   "name": "python",
   "nbconvert_exporter": "python",
   "pygments_lexer": "ipython3",
   "version": "3.9.5"
  }
 },
 "nbformat": 4,
 "nbformat_minor": 5
}
